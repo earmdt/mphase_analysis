{
 "cells": [
  {
   "cell_type": "code",
   "execution_count": 1,
   "id": "14ce2bb1-8557-4d87-be8c-6fde8ab8d8e8",
   "metadata": {},
   "outputs": [],
   "source": [
    "import xarray as xr\n",
    "import os\n",
    "import pandas as pd\n",
    "import numpy as np\n",
    "from glob import glob\n",
    "\n",
    "import matplotlib.pyplot as plt\n",
    "import matplotlib as mpl\n",
    "import matplotlib.ticker as mticker\n",
    "\n",
    "import cartopy.crs as ccrs\n",
    "import cartopy.feature as cfeature\n",
    "from cartopy.mpl.gridliner import LONGITUDE_FORMATTER, LATITUDE_FORMATTER\n",
    "from cartopy.io.shapereader import Reader\n",
    "from cartopy.feature import ShapelyFeature"
   ]
  },
  {
   "cell_type": "code",
   "execution_count": null,
   "id": "96f21775-e035-4da3-b782-9e5bd43c74aa",
   "metadata": {},
   "outputs": [],
   "source": [
    "temp_800_folder = '/home/users/erinraif/era5_data/800hpa_temp/'\n",
    "surface_pressure_folder = '/home/users/erinraif/era5_data/surface_pressure/'\n",
    "skin_temp_folder = '/home/users/erinraif/era5_data/skin_temp/'"
   ]
  }
 ],
 "metadata": {
  "kernelspec": {
   "display_name": "nb_era5_v2",
   "language": "python",
   "name": "nb_era5_v2"
  },
  "language_info": {
   "codemirror_mode": {
    "name": "ipython",
    "version": 3
   },
   "file_extension": ".py",
   "mimetype": "text/x-python",
   "name": "python",
   "nbconvert_exporter": "python",
   "pygments_lexer": "ipython3",
   "version": "3.10.8"
  }
 },
 "nbformat": 4,
 "nbformat_minor": 5
}
